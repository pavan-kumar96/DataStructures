{
 "cells": [
  {
   "cell_type": "code",
   "execution_count": 1,
   "metadata": {},
   "outputs": [
    {
     "data": {
      "text/plain": [
       "'MMCCIII'"
      ]
     },
     "execution_count": 1,
     "metadata": {},
     "output_type": "execute_result"
    }
   ],
   "source": [
    "# 5.Write a program to convert Integer to Roman String. For example, if a given integer is 5 then your program should print \"V\".\n",
    "# Function Name : int_roman Input : int Output : str\n",
    "def int_roman(s):\n",
    "    s = int (s)\n",
    "    digit = [1000,900,500,400,100,90,50,40,10,9,5,4,1]\n",
    "    roman = [\"M\",\"CM\",\"D\",\"CD\",\"C\",\"XC\",\"L\",\"XL\",\"X\",\"IX\",\"V\",\"IV\",\"I\"]\n",
    "    romandigit = \"\"\n",
    "    k = 0\n",
    "    while s> 0:\n",
    "        for _ in range(s//digit[k]):\n",
    "            romandigit += roman[k]\n",
    "            s -= digit[k]\n",
    "        k+=1\n",
    "    return romandigit\n",
    "int_roman(2203)"
   ]
  },
  {
   "cell_type": "code",
   "execution_count": 6,
   "metadata": {},
   "outputs": [
    {
     "data": {
      "text/plain": [
       "(False, ['There should be atleast onee special character'])"
      ]
     },
     "execution_count": 6,
     "metadata": {},
     "output_type": "execute_result"
    }
   ],
   "source": [
    "\n",
    "# 7.Write a program to check the strength of a supplied password\n",
    "\n",
    "# The length of the password must be at least 8 characters in length The password must contain at least 1 capital letter The password must contain at least 1 digit The password must contain at least 1 special character and allowed special characters are (!,@,#,$,&)\n",
    "\n",
    "# We need to provide feedback to the user about the strength of their password\n",
    "\n",
    "# Provide the user with a list of reasons why their password is 'weak'\n",
    "# Function Name : check_password_strength Input : str Output : tuple (str,list) eg (\"Weak\",[\"The password must contain at least 1 capital letter\"])\n",
    "\n",
    "\n",
    "import re\n",
    "def check_password_strength(password):\n",
    "    \n",
    "    while True:   \n",
    "        if (len(password)<8): \n",
    "            p= [\"length of password is low\"]\n",
    "            return (\"weak\",p)\n",
    "        \n",
    "            break\n",
    "        elif not re.search(\"[a-z]\", password): \n",
    "            p = [\"There is should alteast one lower character\"]\n",
    "            return (\"weak\",p)\n",
    "            break\n",
    "        elif not re.search(\"[A-Z]\", password): \n",
    "            p = [\"There should be one upper case character\"]\n",
    "            return \"weak\",p\n",
    "            break\n",
    "        elif not re.search(\"[0-9]\", password): \n",
    "            p = [\"There should atleast one number\"]\n",
    "            return \"weak\" ,p\n",
    "            break\n",
    "            \n",
    "        elif not re.search(\"[!,@,#,$,&]\", password): \n",
    "            p = [\"There should be atleast onee special character\"]\n",
    "            return \"weak\" ,p\n",
    "            break\n",
    "      \n",
    "        else: \n",
    "            return \"Valid password\"\n",
    "            break\n",
    "\n",
    "check_password_strength(\"Rmudsd9e\") \n",
    "    "
   ]
  },
  {
   "cell_type": "code",
   "execution_count": null,
   "metadata": {},
   "outputs": [],
   "source": [
    "# 10.Given a list of N integers. The task is to eliminate the minimum number of elements such that in the resulting list the sum of any two adjacent values is even.\n",
    "\n",
    "# Numbers = [1, 3, 5, 4, 2] Output = [1, 3, 5] Total elements removed 2 Elements to be removed [4,2]\n",
    "\n",
    "# Function Name : adj_sum_even() Input : list Output : tuple(int,list)\n",
    "def adj_sum_even(arr):\n",
    "    n = len(arr)\n",
    "    countOdd = 0\n",
    "    p = []\n",
    "    q = []\n",
    "  \n",
    "    # Stores the new value \n",
    "    for i in range(n): \n",
    "          \n",
    "        # Count odd numbers \n",
    "        if (arr[i] % 2): \n",
    "            countOdd += 1\n",
    "            q.append(arr[i])\n",
    "        else:\n",
    "            p.append(arr[i])\n",
    "    \n",
    "    \n",
    "    if len(p) <=len(q):\n",
    "        return len(p),p\n",
    "    else:\n",
    "        return len(q), q\n",
    "            \n",
    "  \n",
    "   \n",
    "    \n",
    "adj_sum_even([1,3,5,4,2,8,9])"
   ]
  },
  {
   "cell_type": "code",
   "execution_count": 19,
   "metadata": {},
   "outputs": [
    {
     "data": {
      "text/plain": [
       "[4, 3, 2, 5]"
      ]
     },
     "execution_count": 19,
     "metadata": {},
     "output_type": "execute_result"
    }
   ],
   "source": [
    "\n",
    "# 9.Given an array arr[] of integers and an integer K, the task is to find the greatest contiguous sub-array of size K.\n",
    "\n",
    "# Sub-array X is said to be greater than sub-array Y if the first non-matching element in both the sub-arrays has a greater value in X than in Y.\n",
    "\n",
    "# For example : Input: arr[]// = {1, 4, 3, 2, 5}, K = 4 Output: 4 3 2 5 Two subarrays are {1, 4, 3, 2} and {4, 3, 2, 5}. First non-matching element from array1 and array 2 : 1 and 4 as 4 is greater Hence, the greater one is {4, 3, 2, 5}\n",
    "\n",
    "def arr(a, k): \n",
    "    n = len(a)\n",
    "    \n",
    "    vec=[] \n",
    "  \n",
    "    for i in range(n-k+1): \n",
    "        temp=[] \n",
    "  \n",
    "        for j in range(i,i+k): \n",
    "            temp.append(a[j]) \n",
    "        vec.append(temp) \n",
    "  \n",
    "    vec=sorted(vec) \n",
    "  \n",
    "    return vec[len(vec) - 1]\n",
    "\n",
    "\n",
    "arr([1,4,3,2,5],4)"
   ]
  },
  {
   "cell_type": "raw",
   "metadata": {},
   "source": [
    "\n",
    "4.How do you check if a given String contains valid parentheses? Given a string containing just the characters '(', ')', '{', '}', '[' and ']', write a program in python to check if the input string is valid. The brackets must close in the correct order, \"()\" and \"()[]{}\" are all valid but \"(]\" and \"([)]\" are not.\n",
    "\n",
    "Function Name : check_parentheses Input : str Output : True/False\n",
    "def check_parentheses(expr) : \n",
    "    s = []; \n",
    "    \n",
    "    for i in range(len(expr)) : \n",
    "        if (expr[i] == '(' or\n",
    "            expr[i] == '[' or expr[i] == '{') : \n",
    "           \n",
    "            s.append(expr[i]) \n",
    "            continue \n",
    "        if (len(s) == 0) : \n",
    "            return False \n",
    "        if expr[i] == ')' : \n",
    "            \n",
    "            x = s.pop(); \n",
    "            if (x == '{' or x == '[') : \n",
    "                return False \n",
    "        elif expr[i] == '}': \n",
    "         \n",
    "            x = s.pop(); \n",
    "            if (x == '(' or x == '[') : \n",
    "                return False \n",
    "    \n",
    "        elif x == ']': \n",
    "            \n",
    "            x = s.pop(); \n",
    "            if (x =='(' or x == '{') : \n",
    "                return False; \n",
    "    if len(s) : \n",
    "        return True\n",
    "    else : \n",
    "        return False\n",
    "check_parentheses(\"{()}[]\") \n",
    "\n",
    "    \n",
    "  \n"
   ]
  },
  {
   "cell_type": "code",
   "execution_count": 7,
   "metadata": {},
   "outputs": [
    {
     "name": "stdout",
     "output_type": "stream",
     "text": [
      "13\n"
     ]
    }
   ],
   "source": [
    "# 6.Write a program utility that counts the number of lines of actual python code in a. For the purpose of this exercise, a line is counted if it contains something other than whitespace or text in a comment.\n",
    "\n",
    "# remember that comment start sequences that appear inside python strings should be ignored.\n",
    "\n",
    "# Function Name : count_code_lines Input : str Output : int\n",
    "\n",
    "def count_code_lines():\n",
    "\n",
    "    file = open(\"count.txt\",'r')\n",
    "    count = 0\n",
    "    for line in file:\n",
    "            count+=1\n",
    "\n",
    "    print (count)\n",
    "\n",
    "count_code_lines ()\n",
    "\n",
    "# count.txt contains the input code"
   ]
  },
  {
   "cell_type": "code",
   "execution_count": 1,
   "metadata": {},
   "outputs": [
    {
     "data": {
      "text/plain": [
       "{'Banglore': 'Chennai', 'Chennai': 'Goa', 'Goa': 'Bombay', 'Bombay': 'Delhi'}"
      ]
     },
     "execution_count": 1,
     "metadata": {},
     "output_type": "execute_result"
    }
   ],
   "source": [
    "\n",
    "# 2.Given a dict of tickets(\"to\":\"from\")\n",
    "\n",
    "# {\"Chennai\":\"Banglore\",\"Bombay\":\"Delhi\",\"Goa\":\"Chennai\",\"Delhi\":\"Goa\"} find out the sequence of travel.\n",
    "\n",
    "# Expected Output : Bombay->Delhi, Delhi->Goa, Goa->Chennai, Chennai->Banglore\n",
    "\n",
    "# Function Name : travel_sequence Input : dict Output : dict\n",
    "def travel_sequence(dic):\n",
    "    q= []\n",
    "    for key,value in dic.items():\n",
    "        q.append(key)\n",
    "        q.append(value)\n",
    "    s = set(q)\n",
    "    s = list(s)\n",
    "    p = {}\n",
    "    for index in range(len(s)-1):\n",
    "        if index == len(s):\n",
    "             p.setdefalut(s[index],s[0])\n",
    "        else:\n",
    "            p[s[index]] = s[index+1]\n",
    "            continue\n",
    "            \n",
    "    return p\n",
    "travel_sequence({\"Chennai\":\"Banglore\",\"Bombay\":\"Delhi\",\"Goa\":\"Chennai\",\"Delhi\":\"Goa\"})"
   ]
  },
  {
   "cell_type": "code",
   "execution_count": null,
   "metadata": {},
   "outputs": [],
   "source": [
    "# 3.Given a dictionary that associates the names of states with a list of the names of cities that appear in it,write a program that creates a new dictionary that associates the name of a city with the list of states that it appears in.\n",
    "\n",
    "# As an example, if the first dictionary is\n",
    "\n",
    "# Input : states = {'New Hampshire': ['Concord', 'Hanover'],\n",
    "\n",
    "# 'Massachusetts': ['Boston', 'Concord', 'Springfield'],\n",
    "\n",
    "# 'Illinois': ['Chicago', 'Springfield', 'Peoria'] }\n",
    "\n",
    "# Output:\n",
    "\n",
    "# cities = {'Hanover': ['New Hampshire'],\n",
    "\n",
    "# 'Chicago': ['Illinois'],'Boston': ['Massachusetts'],\n",
    "\n",
    "# 'Peoria': ['Illinois'],'Concord': ['New Hampshire','Massachusetts'],\n",
    "\n",
    "# 'Springfield': ['Massachusetts', 'Illinois'] }\n",
    "\n",
    "Function Name : city_with_states Input : dict Output : dict\n",
    "def city_with_states(dict):\n",
    "    new_dict = {} \n",
    "    for key, value in dict.items(): \n",
    "       if value in new_dict: \n",
    "           new_dict[value].append(key) \n",
    "       else: \n",
    "           new_dict[value]=[key]\n",
    "    return new_dict\n",
    "\n"
   ]
  },
  {
   "cell_type": "code",
   "execution_count": 61,
   "metadata": {},
   "outputs": [],
   "source": [
    "\n",
    "# 1.In the pre-smartphone era,each number key is assigned a subset of the alphabet {a,b,…,z}.\n",
    "\n",
    "# - 2 is assigned {a,b,c}, \n",
    "# - 3 is assigned {d,e,f} \n",
    "# - 4 is assigned {g,h,i} \n",
    "# - 5 is assigned {j,k,l}\n",
    "# - 6 is assigned {m,n,o} \n",
    "# - 7 is assigned {p,q,r,s}\n",
    "# - 8 is assigned {t,u,v} \n",
    "# - 9 is assigned {w,x,y,z}\n",
    "\n",
    "# Write a function numbers_to_chars() to find the characters generated using key 9999335533. Output should be \"zeke\"\n",
    "\n",
    "# Function Name : numbers_to_chars() Input : Integer number sequence Output : Str\n",
    "\n",
    "def numbers_to_chars(string) :\n",
    "    length = len(string)\n",
    "     \n",
    "    num = 0;  \n",
    "    for i in range(length) : \n",
    "  \n",
    "        \n",
    "        num = num * 10 + (ord(string[i]) - ord(\"0\"))  \n",
    "  \n",
    "          \n",
    "        if (num >= 32 and num <= 122) :  \n",
    "  \n",
    "            # Convert num to char  \n",
    "            ch = chr(num);  \n",
    "            return(ch, end = \"\")  \n",
    "    \n",
    "            num = 0   \n"
   ]
  },
  {
   "cell_type": "code",
   "execution_count": 5,
   "metadata": {},
   "outputs": [
    {
     "data": {
      "text/plain": [
       "False"
      ]
     },
     "execution_count": 5,
     "metadata": {},
     "output_type": "execute_result"
    }
   ],
   "source": [
    "# Check if given sentence is syntactically correct or not\n",
    "# A simple sentence if syntactically correct if it fulfills given rules. The following are given rules.\n",
    "\n",
    "# Sentence must start with a Uppercase character (e.g. Noun/ I/ We/ He etc.)\n",
    "# There must be spaces between words.\n",
    "# Then the sentence must end with a full stop(.).\n",
    "# Two continuous spaces are not allowed.\n",
    "# Two continuous uppercase characters are not allowed.\n",
    "# However the sentence can end after an uppercase character.\n",
    "# Function Name : check_sentence Input : str Output : tuple (True/False,list) eg (False,[\"There must be spaces between words.\"])\n",
    "\n",
    "\n",
    "\n",
    "def check_sentence(string): \n",
    "  \n",
    "    \n",
    "    length = len(string) \n",
    "  \n",
    " \n",
    "    if string[0] < 'A' or string[0] > 'Z': \n",
    "        return False\n",
    "  \n",
    "   \n",
    "    if string[length-1] != '.': \n",
    "        return False\n",
    "  \n",
    "   \n",
    "    prev_state = 0\n",
    "    curr_state = 0\n",
    "  \n",
    "    \n",
    "    index = 1\n",
    "  \n",
    " \n",
    "    while (string[index]): \n",
    "         \n",
    "        if string[index] >= 'A' and string[index] <= 'Z': \n",
    "            curr_state = 0\n",
    "  \n",
    "        \n",
    "        elif string[index] == ' ': \n",
    "            curr_state = 1\n",
    "  \n",
    "       \n",
    "        elif string[index] >= 'a' and string[index] <= 'z': \n",
    "            curr_state = 2\n",
    "  \n",
    "        \n",
    "        elif string[index] == '.': \n",
    "            curr_state = 3\n",
    "  \n",
    "       \n",
    "        if prev_state == curr_state and curr_state != 2: \n",
    "            return False\n",
    "  \n",
    "        if prev_state == 2 and curr_state == 0: \n",
    "            return False\n",
    "  \n",
    "     \n",
    "        if curr_state == 3 and prev_state != 1: \n",
    "            return True\n",
    "  \n",
    "        index += 1\n",
    "  \n",
    "        prev_state = curr_state \n",
    "  \n",
    "    return False\n",
    "check_sentence(\"I have a friend\")\n"
   ]
  }
 ],
 "metadata": {
  "kernelspec": {
   "display_name": "Python 3",
   "language": "python",
   "name": "python3"
  },
  "language_info": {
   "codemirror_mode": {
    "name": "ipython",
    "version": 3
   },
   "file_extension": ".py",
   "mimetype": "text/x-python",
   "name": "python",
   "nbconvert_exporter": "python",
   "pygments_lexer": "ipython3",
   "version": "3.7.4"
  }
 },
 "nbformat": 4,
 "nbformat_minor": 2
}
